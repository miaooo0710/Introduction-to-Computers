{
  "nbformat": 4,
  "nbformat_minor": 0,
  "metadata": {
    "colab": {
      "provenance": [],
      "authorship_tag": "ABX9TyPahMldCB9F4l31FDIK3Ahb",
      "include_colab_link": true
    },
    "kernelspec": {
      "name": "python3",
      "display_name": "Python 3"
    },
    "language_info": {
      "name": "python"
    }
  },
  "cells": [
    {
      "cell_type": "markdown",
      "metadata": {
        "id": "view-in-github",
        "colab_type": "text"
      },
      "source": [
        "<a href=\"https://colab.research.google.com/github/miaooo0710/Introduction-to-Computers/blob/main/Untitled7.ipynb\" target=\"_parent\"><img src=\"https://colab.research.google.com/assets/colab-badge.svg\" alt=\"Open In Colab\"/></a>"
      ]
    },
    {
      "cell_type": "code",
      "execution_count": 20,
      "metadata": {
        "colab": {
          "base_uri": "https://localhost:8080/"
        },
        "id": "OMJ-WZNZRS-M",
        "outputId": "554a4be8-e790-4458-adc9-fd8d143b49cc"
      },
      "outputs": [
        {
          "output_type": "stream",
          "name": "stdout",
          "text": [
            "今天會下雨嗎rg\n",
            "請輸入大小寫y n\n"
          ]
        }
      ],
      "source": [
        "天氣 = str(input('今天會下雨嗎'))\n",
        "if 天氣 == \"y\" or 天氣 == \"Y\" :\n",
        "  print(\"出門記得帶傘\")\n",
        "elif 天氣 == \"n\" or 天氣 == \"N\" :\n",
        "  print(\"出門不要帶傘\")\n",
        "else:\n",
        "  print(\"請輸入大小寫y n\")\n"
      ]
    },
    {
      "cell_type": "code",
      "source": [
        "體溫 = str(input('請輸入體溫'))\n",
        "if 體溫 >= \"37.5\" :\n",
        "  print(\"體溫過高\")\n",
        "if 體溫 <= \"37.4\" and 體溫 >= \"37\" :\n",
        "  print(\"體溫略高\")\n",
        "if 體溫 <= \"36.9\" and 體溫 >= \"34\" :\n",
        "  print(\"體溫正常\")\n",
        "if 體溫 <= \"34\" :\n",
        "  print(\"體溫異常，請重新測量\")\n"
      ],
      "metadata": {
        "colab": {
          "base_uri": "https://localhost:8080/"
        },
        "id": "2zIB3bHtUhs1",
        "outputId": "94e80d18-0ec9-408e-962e-eac9122bd87a"
      },
      "execution_count": 7,
      "outputs": [
        {
          "output_type": "stream",
          "name": "stdout",
          "text": [
            "請輸入體溫34\n",
            "體溫正常\n"
          ]
        }
      ]
    },
    {
      "cell_type": "code",
      "source": [
        "成績 = str(input('請輸入成績'))\n",
        "if 成績 >= \"90\" :\n",
        "  print(\"A\")\n",
        "if 成績 <= \"89\" and 成績 >= \"80\" :\n",
        "  print(\"B\")\n",
        "if 成績 <= \"79\" and 成績 >= \"70\" :\n",
        "  print(\"C\")\n",
        "if 成績 <= \"69\" and 成績 >= \"60\" :\n",
        "  print(\"D\")\n",
        "if 成績 < \"60\" :\n",
        "  print(\"E\")"
      ],
      "metadata": {
        "colab": {
          "base_uri": "https://localhost:8080/"
        },
        "id": "PxUSlWpqUhvH",
        "outputId": "ab102ed8-359d-4f10-e71d-67290c129319"
      },
      "execution_count": 10,
      "outputs": [
        {
          "output_type": "stream",
          "name": "stdout",
          "text": [
            "請輸入成績77\n",
            "C\n"
          ]
        }
      ]
    },
    {
      "cell_type": "code",
      "source": [
        "月份 = str(input('請輸入月份'))\n",
        "if 月份 == \"3\" or 月份 == \"4\" or 月份 == \"5\" :\n",
        "  print(月份,\"月是春天\")\n",
        "elif 月份 == \"6\" or 月份 == \"7\" or 月份 == \"8\" :\n",
        "  print(月份,\"月是夏天\")\n",
        "elif 月份 == \"9\" or 月份 == \"10\" or 月份 == \"11\" :\n",
        "  print(月份,\"月是秋天\")\n",
        "elif 月份 == \"12\" or 月份 == \"1\" or 月份 == \"2\" :\n",
        "  print(月份,\"月是冬天\")\n",
        "else:\n",
        "  print(\"月份不在範圍內\")"
      ],
      "metadata": {
        "colab": {
          "base_uri": "https://localhost:8080/"
        },
        "id": "3yCInbGfSuB7",
        "outputId": "f75b9a82-f57b-4f34-facc-c22eb097bb0e"
      },
      "execution_count": 22,
      "outputs": [
        {
          "output_type": "stream",
          "name": "stdout",
          "text": [
            "請輸入月份34\n",
            "月份不在範圍內\n"
          ]
        }
      ]
    },
    {
      "cell_type": "code",
      "source": [
        "金額 = int(input('請輸入收入'))\n",
        "if 金額 >= 2000000 : \n",
        "  付稅 = 金額 * 0.3\n",
        "elif 金額 < 2000000 and 金額 >= 1000000 :\n",
        "  付稅 = 金額 * 0.21\n",
        "elif 金額 < 1000000  and 金額>= 600000 :\n",
        "  付稅 = 金額 * 0.13\n",
        "elif 金額 < 600000  and 金額>= 300000 :\n",
        "  付稅 = 金額 * 0.06\n",
        "print(\"應付金額\"+str(付稅))\n"
      ],
      "metadata": {
        "colab": {
          "base_uri": "https://localhost:8080/"
        },
        "id": "YuaG5M8OUhx9",
        "outputId": "a84ba334-8be0-458a-94e5-fb357d8a1e3b"
      },
      "execution_count": 59,
      "outputs": [
        {
          "output_type": "stream",
          "name": "stdout",
          "text": [
            "請輸入收入6000000000\n",
            "應付金額1800000000.0\n"
          ]
        }
      ]
    },
    {
      "cell_type": "code",
      "source": [],
      "metadata": {
        "id": "MFjB0QmOSuDz"
      },
      "execution_count": null,
      "outputs": []
    }
  ]
}